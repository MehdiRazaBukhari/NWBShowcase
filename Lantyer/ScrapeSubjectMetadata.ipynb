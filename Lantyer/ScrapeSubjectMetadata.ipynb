{
 "cells": [
  {
   "cell_type": "markdown",
   "metadata": {},
   "source": [
    "# Example of getting metadata from webpage\n",
    "\n",
    "Data found here: http://gigadb.org/dataset/100535"
   ]
  },
  {
   "cell_type": "code",
   "execution_count": 1,
   "metadata": {},
   "outputs": [],
   "source": [
    "import requests\n",
    "import lxml.html as lh\n",
    "import pandas as pd\n",
    "import re"
   ]
  },
  {
   "cell_type": "markdown",
   "metadata": {},
   "source": [
    "## Website contents"
   ]
  },
  {
   "cell_type": "code",
   "execution_count": 3,
   "metadata": {},
   "outputs": [],
   "source": [
    "example_url = 'http://gigadb.org/dataset/view/id/100535' #/Sample_page/33"
   ]
  },
  {
   "cell_type": "code",
   "execution_count": 4,
   "metadata": {},
   "outputs": [],
   "source": [
    "page = requests.get(example_url)"
   ]
  },
  {
   "cell_type": "code",
   "execution_count": 5,
   "metadata": {},
   "outputs": [],
   "source": [
    "doc = lh.fromstring(page.content)"
   ]
  },
  {
   "cell_type": "code",
   "execution_count": 6,
   "metadata": {},
   "outputs": [],
   "source": [
    "tr_elements = doc.xpath('//tr')"
   ]
  },
  {
   "cell_type": "code",
   "execution_count": 7,
   "metadata": {},
   "outputs": [
    {
     "name": "stdout",
     "output_type": "stream",
     "text": [
      "[6, 6, 6, 6, 6, 6, 6, 6, 6, 6, 6, 7, 7, 7, 7, 7, 7, 7, 7, 7, 7, 7, 4, 4, 4, 4, 4, 2, 2, 2]\n"
     ]
    }
   ],
   "source": [
    "# tr_elements has:\n",
    "# -- 6 elements for sample info\n",
    "# -- 7 elements for file info\n",
    "# -- 4 elements for funding info\n",
    "# -- 2 elements for history info\n",
    "print([len(T) for T in tr_elements[:40]])"
   ]
  },
  {
   "cell_type": "code",
   "execution_count": 8,
   "metadata": {},
   "outputs": [],
   "source": [
    "# take the first 11 rows\n",
    "max_size = len(tr_elements[0])\n",
    "header_elements = tr_elements[0]\n",
    "subject_elements = tr_elements[1:11]"
   ]
  },
  {
   "cell_type": "code",
   "execution_count": 9,
   "metadata": {},
   "outputs": [
    {
     "name": "stdout",
     "output_type": "stream",
     "text": [
      "[6, 6, 6, 6, 6, 6, 6, 6, 6, 6]\n"
     ]
    }
   ],
   "source": [
    "print([len(T) for T in subject_elements])"
   ]
  },
  {
   "cell_type": "code",
   "execution_count": 10,
   "metadata": {},
   "outputs": [
    {
     "name": "stdout",
     "output_type": "stream",
     "text": [
      "0:\"Sample ID\"\n",
      "1:\"Taxonomic ID\"\n",
      "2:\"Common Name\"\n",
      "3:\"Genbank Name\"\n",
      "4:\"Scientific Name\"\n",
      "5:\"Sample Attributes\"\n"
     ]
    }
   ],
   "source": [
    "# column labels for DataFrame\n",
    "columns=[]\n",
    "\n",
    "for i,h in enumerate(header_elements):\n",
    "    name = h.text_content()\n",
    "    print('%d:\"%s\"'%(i,name))\n",
    "    \n",
    "    if i == max_size-1:\n",
    "        break\n",
    "        \n",
    "    columns.append((name,[]))\n",
    "\n",
    "# replace final column with specific column headers\n",
    "nwb_col_headers = ['Description','Age','Sex','Collection date']\n",
    "for h in nwb_col_headers:\n",
    "    columns.append((h,[]))\n"
   ]
  },
  {
   "cell_type": "code",
   "execution_count": 11,
   "metadata": {},
   "outputs": [
    {
     "data": {
      "text/plain": [
       "[('Sample ID', []),\n",
       " ('Taxonomic ID', []),\n",
       " ('Common Name', []),\n",
       " ('Genbank Name', []),\n",
       " ('Scientific Name', []),\n",
       " ('Description', []),\n",
       " ('Age', []),\n",
       " ('Sex', []),\n",
       " ('Collection date', [])]"
      ]
     },
     "execution_count": 11,
     "metadata": {},
     "output_type": "execute_result"
    }
   ],
   "source": [
    "columns"
   ]
  },
  {
   "cell_type": "code",
   "execution_count": 12,
   "metadata": {},
   "outputs": [],
   "source": [
    "example_metadata = subject_elements[0]"
   ]
  },
  {
   "cell_type": "code",
   "execution_count": 13,
   "metadata": {},
   "outputs": [],
   "source": [
    "def get_reduced_split(metadata,headers):\n",
    "    \n",
    "    headers = ['Age','Description','Life stage','Sex','Collection date']\n",
    "    delimiters = [head+':' for head in headers] + ['+','...','\\t\\t','\\n']\n",
    "    regexPattern = '|'.join(map(re.escape, delimiters))\n",
    "    \n",
    "    split = re.split(regexPattern,metadata)\n",
    "    split = [o for o in split if not o.isspace()] # remove whitespace\n",
    "    split = [o for o in split if len(o)>0][3:] # remove empty strings + first 3 are redudant\n",
    "\n",
    "    new_split = []\n",
    "    \n",
    "    for i, s in enumerate(split):\n",
    "        \n",
    "        if i ==1:\n",
    "            new_split.append(split[1] + ' ' + split[2])\n",
    "        elif i==2:\n",
    "            continue\n",
    "        else:\n",
    "            new_split.append(s)\n",
    "            \n",
    "    return new_split"
   ]
  },
  {
   "cell_type": "code",
   "execution_count": 14,
   "metadata": {},
   "outputs": [
    {
     "data": {
      "text/plain": [
       "[('Sample ID', []),\n",
       " ('Taxonomic ID', []),\n",
       " ('Common Name', []),\n",
       " ('Genbank Name', []),\n",
       " ('Scientific Name', []),\n",
       " ('Description', []),\n",
       " ('Age', []),\n",
       " ('Sex', []),\n",
       " ('Collection date', [])]"
      ]
     },
     "execution_count": 14,
     "metadata": {},
     "output_type": "execute_result"
    }
   ],
   "source": [
    "columns"
   ]
  },
  {
   "cell_type": "code",
   "execution_count": 15,
   "metadata": {
    "scrolled": false
   },
   "outputs": [],
   "source": [
    "for i, subject in enumerate(subject_elements):\n",
    "    if len(subject)!=max_size:\n",
    "        print('Row %s is not of size %s'%(i,max_size))\n",
    "        break # should be final element if any\n",
    "\n",
    "    for j,s in enumerate(subject.iterchildren()):\n",
    "        metadata = s.text_content()\n",
    "\n",
    "        # split \"Sample attributes\"\n",
    "        if j==max_size-1:\n",
    "            # get split data\n",
    "            split = get_reduced_split(metadata,nwb_col_headers)\n",
    "            \n",
    "            for k in range(4):\n",
    "                columns[max_size-1+k][1].append(split[k])      \n",
    "        \n",
    "        else:\n",
    "            columns[j][1].append(metadata)\n"
   ]
  },
  {
   "cell_type": "code",
   "execution_count": 16,
   "metadata": {
    "scrolled": false
   },
   "outputs": [
    {
     "data": {
      "text/plain": [
       "[('Sample ID',\n",
       "  ['161104_NC_3',\n",
       "   '161214_AL_113',\n",
       "   '161214_NC_7',\n",
       "   '170130_AL_133',\n",
       "   '170130_AL_134',\n",
       "   '170131_AB_216',\n",
       "   '170131_AB_218',\n",
       "   '170201_AB_220',\n",
       "   '170201_AB_221',\n",
       "   '170201_AB_222']),\n",
       " ('Taxonomic ID',\n",
       "  ['10090',\n",
       "   '10090',\n",
       "   '10090',\n",
       "   '10090',\n",
       "   '10090',\n",
       "   '10090',\n",
       "   '10090',\n",
       "   '10090',\n",
       "   '10090',\n",
       "   '10090']),\n",
       " ('Common Name',\n",
       "  ['Mouse',\n",
       "   'Mouse',\n",
       "   'Mouse',\n",
       "   'Mouse',\n",
       "   'Mouse',\n",
       "   'Mouse',\n",
       "   'Mouse',\n",
       "   'Mouse',\n",
       "   'Mouse',\n",
       "   'Mouse']),\n",
       " ('Genbank Name',\n",
       "  ['house mouse',\n",
       "   'house mouse',\n",
       "   'house mouse',\n",
       "   'house mouse',\n",
       "   'house mouse',\n",
       "   'house mouse',\n",
       "   'house mouse',\n",
       "   'house mouse',\n",
       "   'house mouse',\n",
       "   'house mouse']),\n",
       " ('Scientific Name',\n",
       "  ['Mus musculus',\n",
       "   'Mus musculus',\n",
       "   'Mus musculus',\n",
       "   'Mus musculus',\n",
       "   'Mus musculus',\n",
       "   'Mus musculus',\n",
       "   'Mus musculus',\n",
       "   'Mus musculus',\n",
       "   'Mus musculus',\n",
       "   'Mus musculus']),\n",
       " ('Description',\n",
       "  ['Electrophysiology of the primary somatosensory cortex in adult mice. Current clamp step and hold (CC) lamp 40pA',\n",
       "   'Electrophysiology of the primary somatosensory cortex in adult mice. Current clamp step and hold (CC) lamp 40pA',\n",
       "   'Electrophysiology of the primary somatosensory cortex in adult mice. Current clamp step and hold (CC) lamp 40pA',\n",
       "   'Electrophysiology of the primary somatosensory cortex in adult mice. Current clamp step and hold (CC) lamp 40pA',\n",
       "   'Electrophysiology of the primary somatosensory cortex in adult mice. Current clamp step and hold (CC) lamp 40pA',\n",
       "   'Electrophysiology of the primary somatosensory cortex in adult mice. Voltage Clamp SawTooth (ST)',\n",
       "   'Electrophysiology of the primary somatosensory cortex in adult mice. Voltage Clamp SawTooth (ST)',\n",
       "   'Electrophysiology of the primary somatosensory cortex in adult mice. Voltage Clamp SawTooth (ST)',\n",
       "   'Electrophysiology of the primary somatosensory cortex in adult mice. Voltage Clamp SawTooth (ST)',\n",
       "   'Electrophysiology of the primary somatosensory cortex in adult mice. Voltage Clamp SawTooth (ST)']),\n",
       " ('Age',\n",
       "  ['192 days postnatal',\n",
       "   '210 days postnatal',\n",
       "   '210 days postnatal',\n",
       "   '226 days postnatal',\n",
       "   '226 days postnatal',\n",
       "   '227 days postnatal',\n",
       "   '227 days postnatal',\n",
       "   '228 days postnatal',\n",
       "   '228 days postnatal',\n",
       "   '228 days postnatal']),\n",
       " ('Sex', ['M', 'M', 'M', 'F', 'F', 'F', 'F', 'F', 'F', 'F']),\n",
       " ('Collection date',\n",
       "  ['2016-11-04',\n",
       "   '2016-12-14',\n",
       "   '2016-12-14',\n",
       "   '2017-01-30',\n",
       "   '2017-01-30',\n",
       "   '2017-01-31',\n",
       "   '2017-01-31',\n",
       "   '2017-02-01',\n",
       "   '2017-02-01',\n",
       "   '2017-02-01'])]"
      ]
     },
     "execution_count": 16,
     "metadata": {},
     "output_type": "execute_result"
    }
   ],
   "source": [
    "columns"
   ]
  },
  {
   "cell_type": "markdown",
   "metadata": {},
   "source": [
    "## Example dataframe"
   ]
  },
  {
   "cell_type": "code",
   "execution_count": 17,
   "metadata": {},
   "outputs": [],
   "source": [
    "Dict = {title:col for (title,col) in columns}\n",
    "\n",
    "sample_df = pd.DataFrame(Dict)"
   ]
  },
  {
   "cell_type": "code",
   "execution_count": 18,
   "metadata": {},
   "outputs": [
    {
     "data": {
      "text/html": [
       "<div>\n",
       "<style scoped>\n",
       "    .dataframe tbody tr th:only-of-type {\n",
       "        vertical-align: middle;\n",
       "    }\n",
       "\n",
       "    .dataframe tbody tr th {\n",
       "        vertical-align: top;\n",
       "    }\n",
       "\n",
       "    .dataframe thead th {\n",
       "        text-align: right;\n",
       "    }\n",
       "</style>\n",
       "<table border=\"1\" class=\"dataframe\">\n",
       "  <thead>\n",
       "    <tr style=\"text-align: right;\">\n",
       "      <th></th>\n",
       "      <th>Sample ID</th>\n",
       "      <th>Taxonomic ID</th>\n",
       "      <th>Common Name</th>\n",
       "      <th>Genbank Name</th>\n",
       "      <th>Scientific Name</th>\n",
       "      <th>Description</th>\n",
       "      <th>Age</th>\n",
       "      <th>Sex</th>\n",
       "      <th>Collection date</th>\n",
       "    </tr>\n",
       "  </thead>\n",
       "  <tbody>\n",
       "    <tr>\n",
       "      <th>0</th>\n",
       "      <td>161104_NC_3</td>\n",
       "      <td>10090</td>\n",
       "      <td>Mouse</td>\n",
       "      <td>house mouse</td>\n",
       "      <td>Mus musculus</td>\n",
       "      <td>Electrophysiology of the primary somatosensory...</td>\n",
       "      <td>192 days postnatal</td>\n",
       "      <td>M</td>\n",
       "      <td>2016-11-04</td>\n",
       "    </tr>\n",
       "    <tr>\n",
       "      <th>1</th>\n",
       "      <td>161214_AL_113</td>\n",
       "      <td>10090</td>\n",
       "      <td>Mouse</td>\n",
       "      <td>house mouse</td>\n",
       "      <td>Mus musculus</td>\n",
       "      <td>Electrophysiology of the primary somatosensory...</td>\n",
       "      <td>210 days postnatal</td>\n",
       "      <td>M</td>\n",
       "      <td>2016-12-14</td>\n",
       "    </tr>\n",
       "    <tr>\n",
       "      <th>2</th>\n",
       "      <td>161214_NC_7</td>\n",
       "      <td>10090</td>\n",
       "      <td>Mouse</td>\n",
       "      <td>house mouse</td>\n",
       "      <td>Mus musculus</td>\n",
       "      <td>Electrophysiology of the primary somatosensory...</td>\n",
       "      <td>210 days postnatal</td>\n",
       "      <td>M</td>\n",
       "      <td>2016-12-14</td>\n",
       "    </tr>\n",
       "    <tr>\n",
       "      <th>3</th>\n",
       "      <td>170130_AL_133</td>\n",
       "      <td>10090</td>\n",
       "      <td>Mouse</td>\n",
       "      <td>house mouse</td>\n",
       "      <td>Mus musculus</td>\n",
       "      <td>Electrophysiology of the primary somatosensory...</td>\n",
       "      <td>226 days postnatal</td>\n",
       "      <td>F</td>\n",
       "      <td>2017-01-30</td>\n",
       "    </tr>\n",
       "    <tr>\n",
       "      <th>4</th>\n",
       "      <td>170130_AL_134</td>\n",
       "      <td>10090</td>\n",
       "      <td>Mouse</td>\n",
       "      <td>house mouse</td>\n",
       "      <td>Mus musculus</td>\n",
       "      <td>Electrophysiology of the primary somatosensory...</td>\n",
       "      <td>226 days postnatal</td>\n",
       "      <td>F</td>\n",
       "      <td>2017-01-30</td>\n",
       "    </tr>\n",
       "    <tr>\n",
       "      <th>5</th>\n",
       "      <td>170131_AB_216</td>\n",
       "      <td>10090</td>\n",
       "      <td>Mouse</td>\n",
       "      <td>house mouse</td>\n",
       "      <td>Mus musculus</td>\n",
       "      <td>Electrophysiology of the primary somatosensory...</td>\n",
       "      <td>227 days postnatal</td>\n",
       "      <td>F</td>\n",
       "      <td>2017-01-31</td>\n",
       "    </tr>\n",
       "    <tr>\n",
       "      <th>6</th>\n",
       "      <td>170131_AB_218</td>\n",
       "      <td>10090</td>\n",
       "      <td>Mouse</td>\n",
       "      <td>house mouse</td>\n",
       "      <td>Mus musculus</td>\n",
       "      <td>Electrophysiology of the primary somatosensory...</td>\n",
       "      <td>227 days postnatal</td>\n",
       "      <td>F</td>\n",
       "      <td>2017-01-31</td>\n",
       "    </tr>\n",
       "    <tr>\n",
       "      <th>7</th>\n",
       "      <td>170201_AB_220</td>\n",
       "      <td>10090</td>\n",
       "      <td>Mouse</td>\n",
       "      <td>house mouse</td>\n",
       "      <td>Mus musculus</td>\n",
       "      <td>Electrophysiology of the primary somatosensory...</td>\n",
       "      <td>228 days postnatal</td>\n",
       "      <td>F</td>\n",
       "      <td>2017-02-01</td>\n",
       "    </tr>\n",
       "    <tr>\n",
       "      <th>8</th>\n",
       "      <td>170201_AB_221</td>\n",
       "      <td>10090</td>\n",
       "      <td>Mouse</td>\n",
       "      <td>house mouse</td>\n",
       "      <td>Mus musculus</td>\n",
       "      <td>Electrophysiology of the primary somatosensory...</td>\n",
       "      <td>228 days postnatal</td>\n",
       "      <td>F</td>\n",
       "      <td>2017-02-01</td>\n",
       "    </tr>\n",
       "    <tr>\n",
       "      <th>9</th>\n",
       "      <td>170201_AB_222</td>\n",
       "      <td>10090</td>\n",
       "      <td>Mouse</td>\n",
       "      <td>house mouse</td>\n",
       "      <td>Mus musculus</td>\n",
       "      <td>Electrophysiology of the primary somatosensory...</td>\n",
       "      <td>228 days postnatal</td>\n",
       "      <td>F</td>\n",
       "      <td>2017-02-01</td>\n",
       "    </tr>\n",
       "  </tbody>\n",
       "</table>\n",
       "</div>"
      ],
      "text/plain": [
       "       Sample ID Taxonomic ID Common Name Genbank Name Scientific Name  \\\n",
       "0    161104_NC_3        10090       Mouse  house mouse    Mus musculus   \n",
       "1  161214_AL_113        10090       Mouse  house mouse    Mus musculus   \n",
       "2    161214_NC_7        10090       Mouse  house mouse    Mus musculus   \n",
       "3  170130_AL_133        10090       Mouse  house mouse    Mus musculus   \n",
       "4  170130_AL_134        10090       Mouse  house mouse    Mus musculus   \n",
       "5  170131_AB_216        10090       Mouse  house mouse    Mus musculus   \n",
       "6  170131_AB_218        10090       Mouse  house mouse    Mus musculus   \n",
       "7  170201_AB_220        10090       Mouse  house mouse    Mus musculus   \n",
       "8  170201_AB_221        10090       Mouse  house mouse    Mus musculus   \n",
       "9  170201_AB_222        10090       Mouse  house mouse    Mus musculus   \n",
       "\n",
       "                                         Description                 Age Sex  \\\n",
       "0  Electrophysiology of the primary somatosensory...  192 days postnatal   M   \n",
       "1  Electrophysiology of the primary somatosensory...  210 days postnatal   M   \n",
       "2  Electrophysiology of the primary somatosensory...  210 days postnatal   M   \n",
       "3  Electrophysiology of the primary somatosensory...  226 days postnatal   F   \n",
       "4  Electrophysiology of the primary somatosensory...  226 days postnatal   F   \n",
       "5  Electrophysiology of the primary somatosensory...  227 days postnatal   F   \n",
       "6  Electrophysiology of the primary somatosensory...  227 days postnatal   F   \n",
       "7  Electrophysiology of the primary somatosensory...  228 days postnatal   F   \n",
       "8  Electrophysiology of the primary somatosensory...  228 days postnatal   F   \n",
       "9  Electrophysiology of the primary somatosensory...  228 days postnatal   F   \n",
       "\n",
       "  Collection date  \n",
       "0      2016-11-04  \n",
       "1      2016-12-14  \n",
       "2      2016-12-14  \n",
       "3      2017-01-30  \n",
       "4      2017-01-30  \n",
       "5      2017-01-31  \n",
       "6      2017-01-31  \n",
       "7      2017-02-01  \n",
       "8      2017-02-01  \n",
       "9      2017-02-01  "
      ]
     },
     "execution_count": 18,
     "metadata": {},
     "output_type": "execute_result"
    }
   ],
   "source": [
    "sample_df"
   ]
  },
  {
   "cell_type": "code",
   "execution_count": 2,
   "metadata": {},
   "outputs": [],
   "source": [
    "samples_df = pd.read_pickle('sample_metadata.pkl')"
   ]
  },
  {
   "cell_type": "code",
   "execution_count": 3,
   "metadata": {},
   "outputs": [
    {
     "data": {
      "text/html": [
       "<div>\n",
       "<style scoped>\n",
       "    .dataframe tbody tr th:only-of-type {\n",
       "        vertical-align: middle;\n",
       "    }\n",
       "\n",
       "    .dataframe tbody tr th {\n",
       "        vertical-align: top;\n",
       "    }\n",
       "\n",
       "    .dataframe thead th {\n",
       "        text-align: right;\n",
       "    }\n",
       "</style>\n",
       "<table border=\"1\" class=\"dataframe\">\n",
       "  <thead>\n",
       "    <tr style=\"text-align: right;\">\n",
       "      <th></th>\n",
       "      <th>Sample ID</th>\n",
       "      <th>Taxonomic ID</th>\n",
       "      <th>Common Name</th>\n",
       "      <th>Genbank Name</th>\n",
       "      <th>Scientific Name</th>\n",
       "      <th>Description</th>\n",
       "      <th>Age</th>\n",
       "      <th>Sex</th>\n",
       "      <th>Collection date</th>\n",
       "    </tr>\n",
       "  </thead>\n",
       "  <tbody>\n",
       "    <tr>\n",
       "      <th>321</th>\n",
       "      <td>180815_ME_3</td>\n",
       "      <td>10090</td>\n",
       "      <td>Mouse</td>\n",
       "      <td>house mouse</td>\n",
       "      <td>Mus musculus</td>\n",
       "      <td>Electrophysiology of the primary somatosensory...</td>\n",
       "      <td>139 days postnatal</td>\n",
       "      <td>M</td>\n",
       "      <td>2018-08-15</td>\n",
       "    </tr>\n",
       "    <tr>\n",
       "      <th>322</th>\n",
       "      <td>180815_ME_6</td>\n",
       "      <td>10090</td>\n",
       "      <td>Mouse</td>\n",
       "      <td>house mouse</td>\n",
       "      <td>Mus musculus</td>\n",
       "      <td>Electrophysiology of the primary somatosensory...</td>\n",
       "      <td>139 days postnatal</td>\n",
       "      <td>M</td>\n",
       "      <td>2018-08-15</td>\n",
       "    </tr>\n",
       "    <tr>\n",
       "      <th>323</th>\n",
       "      <td>180817_ME_3</td>\n",
       "      <td>10090</td>\n",
       "      <td>Mouse</td>\n",
       "      <td>house mouse</td>\n",
       "      <td>Mus musculus</td>\n",
       "      <td>Electrophysiology of the primary somatosensory...</td>\n",
       "      <td>105 days postnatal</td>\n",
       "      <td>F</td>\n",
       "      <td>2018-08-17</td>\n",
       "    </tr>\n",
       "    <tr>\n",
       "      <th>324</th>\n",
       "      <td>180817_ME_6</td>\n",
       "      <td>10090</td>\n",
       "      <td>Mouse</td>\n",
       "      <td>house mouse</td>\n",
       "      <td>Mus musculus</td>\n",
       "      <td>Electrophysiology of the primary somatosensory...</td>\n",
       "      <td>105 days postnatal</td>\n",
       "      <td>F</td>\n",
       "      <td>2018-08-17</td>\n",
       "    </tr>\n",
       "    <tr>\n",
       "      <th>325</th>\n",
       "      <td>180817_ME_9</td>\n",
       "      <td>10090</td>\n",
       "      <td>Mouse</td>\n",
       "      <td>house mouse</td>\n",
       "      <td>Mus musculus</td>\n",
       "      <td>Electrophysiology of the primary somatosensory...</td>\n",
       "      <td>105 days postnatal</td>\n",
       "      <td>F</td>\n",
       "      <td>2018-08-17</td>\n",
       "    </tr>\n",
       "  </tbody>\n",
       "</table>\n",
       "</div>"
      ],
      "text/plain": [
       "       Sample ID Taxonomic ID Common Name Genbank Name Scientific Name  \\\n",
       "321  180815_ME_3        10090       Mouse  house mouse    Mus musculus   \n",
       "322  180815_ME_6        10090       Mouse  house mouse    Mus musculus   \n",
       "323  180817_ME_3        10090       Mouse  house mouse    Mus musculus   \n",
       "324  180817_ME_6        10090       Mouse  house mouse    Mus musculus   \n",
       "325  180817_ME_9        10090       Mouse  house mouse    Mus musculus   \n",
       "\n",
       "                                           Description                 Age  \\\n",
       "321  Electrophysiology of the primary somatosensory...  139 days postnatal   \n",
       "322  Electrophysiology of the primary somatosensory...  139 days postnatal   \n",
       "323  Electrophysiology of the primary somatosensory...  105 days postnatal   \n",
       "324  Electrophysiology of the primary somatosensory...  105 days postnatal   \n",
       "325  Electrophysiology of the primary somatosensory...  105 days postnatal   \n",
       "\n",
       "    Sex Collection date  \n",
       "321   M      2018-08-15  \n",
       "322   M      2018-08-15  \n",
       "323   F      2018-08-17  \n",
       "324   F      2018-08-17  \n",
       "325   F      2018-08-17  "
      ]
     },
     "execution_count": 3,
     "metadata": {},
     "output_type": "execute_result"
    }
   ],
   "source": [
    "samples_df.tail()"
   ]
  },
  {
   "cell_type": "code",
   "execution_count": null,
   "metadata": {},
   "outputs": [],
   "source": []
  }
 ],
 "metadata": {
  "kernelspec": {
   "display_name": "nwb_env",
   "language": "python",
   "name": "nwb_env"
  },
  "language_info": {
   "codemirror_mode": {
    "name": "ipython",
    "version": 3
   },
   "file_extension": ".py",
   "mimetype": "text/x-python",
   "name": "python",
   "nbconvert_exporter": "python",
   "pygments_lexer": "ipython3",
   "version": "3.7.6"
  }
 },
 "nbformat": 4,
 "nbformat_minor": 2
}
