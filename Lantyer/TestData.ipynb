{
 "cells": [
  {
   "cell_type": "markdown",
   "metadata": {
    "deletable": true,
    "editable": true
   },
   "source": [
    "## Dataset: A databank for intracellular electrophysiological mapping of the adult somatosensory cortex\n",
    "\n",
    "See https://github.com/OpenSourceBrain/NWBShowcase/issues/5"
   ]
  },
  {
   "cell_type": "code",
   "execution_count": 1,
   "metadata": {
    "collapsed": false,
    "deletable": true,
    "editable": true
   },
   "outputs": [
    {
     "name": "stdout",
     "output_type": "stream",
     "text": [
      "170502_AL_257_CC.mat  180817_ME_9_CC.mat\t\t    README.md\n",
      "171222_NC_162_FN.mat  LantyerEtAl2018.170502_AL_257_CC.nwb  TestData.ipynb\n",
      "Contents of MAT file 170502_AL_257_CC.mat: ['Trace_2_1_10_1', 'Trace_2_1_10_2', 'Trace_2_1_1_1', 'Trace_2_1_1_2', 'Trace_2_1_2_1', 'Trace_2_1_2_2', 'Trace_2_1_3_1', 'Trace_2_1_3_2', 'Trace_2_1_4_1', 'Trace_2_1_4_2', 'Trace_2_1_5_1', 'Trace_2_1_5_2', 'Trace_2_1_6_1', 'Trace_2_1_6_2', 'Trace_2_1_7_1', 'Trace_2_1_7_2', 'Trace_2_1_8_1', 'Trace_2_1_8_2', 'Trace_2_1_9_1', 'Trace_2_1_9_2', 'Trace_2_2_10_1', 'Trace_2_2_10_2', 'Trace_2_2_1_1', 'Trace_2_2_1_2', 'Trace_2_2_2_1', 'Trace_2_2_2_2', 'Trace_2_2_3_1', 'Trace_2_2_3_2', 'Trace_2_2_4_1', 'Trace_2_2_4_2', 'Trace_2_2_5_1', 'Trace_2_2_5_2', 'Trace_2_2_6_1', 'Trace_2_2_6_2', 'Trace_2_2_7_1', 'Trace_2_2_7_2', 'Trace_2_2_8_1', 'Trace_2_2_8_2', 'Trace_2_2_9_1', 'Trace_2_2_9_2', 'Trace_2_3_10_1', 'Trace_2_3_10_2', 'Trace_2_3_1_1', 'Trace_2_3_1_2', 'Trace_2_3_2_1', 'Trace_2_3_2_2', 'Trace_2_3_3_1', 'Trace_2_3_3_2', 'Trace_2_3_4_1', 'Trace_2_3_4_2', 'Trace_2_3_5_1', 'Trace_2_3_5_2', 'Trace_2_3_6_1', 'Trace_2_3_6_2', 'Trace_2_3_7_1', 'Trace_2_3_7_2', 'Trace_2_3_8_1', 'Trace_2_3_8_2', 'Trace_2_3_9_1', 'Trace_2_3_9_2', '__globals__', '__header__', '__version__']\n",
      "Current injection trace: Trace_2_2_10_1\n",
      "Current injection trace: Trace_2_2_1_1\n",
      "Current injection trace: Trace_2_2_2_1\n",
      "Current injection trace: Trace_2_2_3_1\n",
      "Current injection trace: Trace_2_2_4_1\n",
      "Current injection trace: Trace_2_2_5_1\n",
      "Current injection trace: Trace_2_2_6_1\n",
      "Current injection trace: Trace_2_2_7_1\n",
      "Current injection trace: Trace_2_2_8_1\n",
      "Current injection trace: Trace_2_2_9_1\n",
      "Response trace: Trace_2_2_10_2\n",
      "Response trace: Trace_2_2_1_2\n",
      "Response trace: Trace_2_2_2_2\n",
      "Response trace: Trace_2_2_3_2\n",
      "Response trace: Trace_2_2_4_2\n",
      "Response trace: Trace_2_2_5_2\n",
      "Response trace: Trace_2_2_6_2\n",
      "Response trace: Trace_2_2_7_2\n",
      "Response trace: Trace_2_2_8_2\n",
      "Response trace: Trace_2_2_9_2\n"
     ]
    },
    {
     "data": {
      "image/png": "[encoded data removed]",
      "text/plain": [
       "<Figure size 432x288 with 1 Axes>"
      ]
     },
     "metadata": {},
     "output_type": "display_data"
    },
    {
     "data": {
      "image/png": "[encoded data removed]",
      "text/plain": [
       "<Figure size 432x288 with 1 Axes>"
      ]
     },
     "metadata": {},
     "output_type": "display_data"
    }
   ],
   "source": [
    "!ls\n",
    "\n",
    "import matplotlib.pyplot as plt\n",
    "%matplotlib inline \n",
    "\n",
    "import scipy.io as sio\n",
    "data_ref = '170502_AL_257_CC'\n",
    "mat_file = '%s.mat'%data_ref\n",
    "mat_contents = sio.loadmat(mat_file)\n",
    "\n",
    "print('Contents of MAT file %s: %s'%(mat_file, sorted(mat_contents.keys())))\n",
    "\n",
    "    \n",
    "for t in mat_contents.keys():\n",
    "    if 'Trace_2_2_' in t and t.endswith('_1'):\n",
    "        print('Current injection trace: %s'%t)\n",
    "        trace = mat_contents[t].T\n",
    "        \n",
    "        plt.plot(trace[0],trace[1], lw=.5, label='%s'%t)\n",
    "        \n",
    "plt.figure()\n",
    "for t in mat_contents.keys():\n",
    "    if 'Trace_2_2_' in t and t.endswith('_2'):\n",
    "        print('Response trace: %s'%t)\n",
    "        trace = mat_contents[t].T\n",
    "        \n",
    "        plt.plot(trace[0],trace[1], lw=.5, label='%s'%t)\n",
    "        \n",
    "        \n",
    "        \n"
   ]
  },
  {
   "cell_type": "code",
   "execution_count": 2,
   "metadata": {
    "collapsed": false,
    "deletable": true,
    "editable": true
   },
   "outputs": [
    {
     "name": "stdout",
     "output_type": "stream",
     "text": [
      "Trace: Trace_2_2_10_1\n",
      "Trace: Trace_2_2_10_2\n",
      "Trace: Trace_2_2_1_1\n",
      "Trace: Trace_2_2_1_2\n",
      "Trace: Trace_2_2_2_1\n",
      "Trace: Trace_2_2_2_2\n",
      "Trace: Trace_2_2_3_1\n",
      "Trace: Trace_2_2_3_2\n",
      "Trace: Trace_2_2_4_1\n",
      "Trace: Trace_2_2_4_2\n",
      "Trace: Trace_2_2_5_1\n",
      "Trace: Trace_2_2_5_2\n",
      "Trace: Trace_2_2_6_1\n",
      "Trace: Trace_2_2_6_2\n",
      "Trace: Trace_2_2_7_1\n",
      "Trace: Trace_2_2_7_2\n",
      "Trace: Trace_2_2_8_1\n",
      "Trace: Trace_2_2_8_2\n",
      "Trace: Trace_2_2_9_1\n",
      "Trace: Trace_2_2_9_2\n",
      "Written NWB file to LantyerEtAl2018.170502_AL_257_CC.nwb\n"
     ]
    }
   ],
   "source": [
    "from datetime import datetime\n",
    "\n",
    "from dateutil.tz import tzlocal\n",
    "import pynwb\n",
    "import math\n",
    "\n",
    "start_time = datetime(2019, 1, 1, 11, tzinfo=tzlocal())\n",
    "create_date = datetime.now(tz=tzlocal())\n",
    "\n",
    "nwbfile = pynwb.NWBFile('Lantyer et al.', \n",
    "                  'TSD', \n",
    "                  start_time,\n",
    "                  file_create_date=create_date,\n",
    "                  notes='Ephys created with pynwb v%s'%pynwb.__version__,\n",
    "                  experimenter='Angelica da Silva Lantyer et al.',\n",
    "                  experiment_description='A databank for intracellular electrophysiological mapping of the adult somatosensory cortex',\n",
    "                  institution='Donders Institute for Brain, Cognition and Behaviour, Radboud University')\n",
    "                  \n",
    "\n",
    "for t in mat_contents.keys():\n",
    "    if 'Trace_2_2' in t:\n",
    "        print('Trace: %s'%t)\n",
    "        trace = mat_contents[t].T\n",
    "        \n",
    "        #plt.plot(trace[0],trace[1], lw=.5, label='%s'%t)\n",
    "        \n",
    "        timestamps = trace[0]\n",
    "        data = trace[1]\n",
    "\n",
    "\n",
    "        if t.endswith('_1'):\n",
    "            ts_stim = pynwb.TimeSeries('%s'%t, data, 'A', timestamps=timestamps)\n",
    "            nwbfile.add_stimulus(ts_stim)\n",
    "        if t.endswith('_2'):\n",
    "            ts_acq = pynwb.TimeSeries('%s'%t, data, 'mV', timestamps=timestamps)\n",
    "            nwbfile.add_acquisition(ts_acq)\n",
    "            \n",
    "\n",
    "nwb_file_name = 'LantyerEtAl2018.%s.nwb'%(data_ref)\n",
    "io = pynwb.NWBHDF5IO(nwb_file_name, mode='w')\n",
    "io.write(nwbfile)\n",
    "io.close()\n",
    "print(\"Written NWB file to %s\"%nwb_file_name)"
   ]
  },
  {
   "cell_type": "code",
   "execution_count": null,
   "metadata": {
    "collapsed": true,
    "deletable": true,
    "editable": true
   },
   "outputs": [],
   "source": []
  }
 ],
 "metadata": {
  "kernelspec": {
   "display_name": "Python 3",
   "language": "python",
   "name": "python3"
  },
  "language_info": {
   "codemirror_mode": {
    "name": "ipython",
    "version": 3
   },
   "file_extension": ".py",
   "mimetype": "text/x-python",
   "name": "python",
   "nbconvert_exporter": "python",
   "pygments_lexer": "ipython3",
   "version": "3.6.8"
  }
 },
 "nbformat": 4,
 "nbformat_minor": 2
}
